{
 "cells": [
  {
   "cell_type": "markdown",
   "id": "0cee39d6",
   "metadata": {},
   "source": [
    "### Using the ST3215 Python package to control ST3215 Bus Servo Motor"
   ]
  },
  {
   "cell_type": "markdown",
   "id": "57fc4ae9",
   "metadata": {},
   "source": [
    "First we import the necessary packages (can be a whole package, module, class, method, function, variable, etc.):"
   ]
  },
  {
   "cell_type": "code",
   "execution_count": 1,
   "id": "66de8acb",
   "metadata": {},
   "outputs": [],
   "source": [
    "from st3215 import ST3215 # from python package 'st3215' import the Class ST3215 to control the st3215 servo motor\n",
    "import time # import time module (to keep track of time...)\n",
    "import random # import the random module (to create randomness!!)"
   ]
  },
  {
   "cell_type": "markdown",
   "id": "0f08f507",
   "metadata": {},
   "source": [
    "#### Create a servo controller instance with the port name\n",
    "\n",
    "To find port name, disconnect usb cable from servo driver, enter the command below bash shell, then reconnect the usb cable and enter the command again. Observe which one appears.\n",
    "It lists standard COM ports (ttyS0 --> COM1, ttyS1 --> COM2, and so on.)\n",
    "\n",
    "\n",
    "`ls /dev/ttyS*` # should return: /dev/ttyS2  /dev/ttyS3\n",
    "\n",
    "**NOTE:** On Linux devices, it is `/dev/ttyACM*`"
   ]
  },
  {
   "cell_type": "markdown",
   "id": "d7b9369e",
   "metadata": {},
   "source": [
    "Create an instance from the module '`ST3215`', assign it to the variabled called `servo`, pass the port received as argument:"
   ]
  },
  {
   "cell_type": "code",
   "execution_count": null,
   "id": "10b15d30",
   "metadata": {},
   "outputs": [],
   "source": [
    "servo = ST3215('COM4') # obtained from /dev/ttyS3"
   ]
  },
  {
   "cell_type": "markdown",
   "id": "5e775e8f",
   "metadata": {},
   "source": [
    "List the ID's of all servos connected to the servo driver board using the '`ListServos()`' method, and assign to a variable '`ids`'."
   ]
  },
  {
   "cell_type": "code",
   "execution_count": 3,
   "id": "fe48991c",
   "metadata": {},
   "outputs": [
    {
     "name": "stdout",
     "output_type": "stream",
     "text": [
      "[1]\n",
      "<class 'list'>\n",
      "1\n"
     ]
    }
   ],
   "source": [
    "ids = servo.ListServos() # listServos takes some time, because it loops through all the id's from 1 to 250, to check which is pinging back.\n",
    "\n",
    "# here is a simple example of an if condition in Python\n",
    "# when there are no servos connected, ListServos() returns None\n",
    "# If there are servos connected, the ids of each servo connected is stored in a list --> [1,3,6]\n",
    "# The condition if None is equivalent to if False, and if [1,3,6] is True\n",
    "if ids:\n",
    "    print(ids) # print out the raw value\n",
    "    print(type(ids)) # print the type of the variable, using 'type(variable)'\n",
    "    print(len(ids)) # print the number of servos connected, using 'len(list)'\n",
    "else:\n",
    "    print(\"No servos were found :(\") # print a string as output"
   ]
  },
  {
   "cell_type": "markdown",
   "id": "d1af9b9b",
   "metadata": {},
   "source": [
    "We define the middle position for our first servo. We do that by indexing the list `ids`.\n",
    "Before we can execute the code block, move the servo to the middle position."
   ]
  },
  {
   "cell_type": "code",
   "execution_count": null,
   "id": "70f9d902",
   "metadata": {},
   "outputs": [
    {
     "data": {
      "text/plain": [
       "True"
      ]
     },
     "execution_count": 7,
     "metadata": {},
     "output_type": "execute_result"
    }
   ],
   "source": [
    "# take the first servo with index 0 from the ids list, assign it to variable servo1\n",
    "servo1 = ids[0]\n",
    "servo.DefineMiddle(servo1) # DefineMiddle is another method within the ST3215 class, so we can call it on servo"
   ]
  },
  {
   "cell_type": "markdown",
   "id": "f1e1e142",
   "metadata": {},
   "source": [
    "Let's read the position of one servo continuously for T seconds...\n",
    "And while, we do that, let's note the min, and max positions. This will be useful later."
   ]
  },
  {
   "cell_type": "code",
   "execution_count": 9,
   "id": "59d13ac1",
   "metadata": {},
   "outputs": [
    {
     "name": "stdout",
     "output_type": "stream",
     "text": [
      "Servo 1 is at position 3027 \r"
     ]
    }
   ],
   "source": [
    "# assign 20 to a new variable 'T', and the current time to start_time\n",
    "T = 30 \n",
    "start_time = time.time() # time.time() returns the precise current time in seconds, and microseconds\n",
    "\n",
    "# syntax for a while loop\n",
    "# check if the difference between the current time and the start time is less than T...\n",
    "while time.time() - start_time < T:\n",
    "    # get the servo position, assign to servo_pos\n",
    "    servo_pos = servo.ReadPosition(servo1)\n",
    "    # print a formatted string --> f\" ... \"\", with carriage return --> \\r\", end=\"\"\n",
    "    print(f\"Servo {servo1} is at position {servo_pos} \\r\", end=\"\")"
   ]
  },
  {
   "cell_type": "markdown",
   "id": "66283faa",
   "metadata": {},
   "source": [
    "**!! CAUTION: If we send a random value that falls outside the physical range, something will break... !!**\n",
    "\n",
    "Let's try something random, by controlling the servo...\n",
    "We know the servo range is 0 to 4096, but here there are some physical constraints. \n",
    "\n",
    "That's why we recorded the minimum and maximum positions above. We replace that in the constants (**ALL CAPS variables**).\n",
    "\n",
    "So we choose a random value in between and send it to the servo everytime we execute the code block below."
   ]
  },
  {
   "cell_type": "code",
   "execution_count": null,
   "id": "1f4f5aef",
   "metadata": {},
   "outputs": [
    {
     "name": "stdout",
     "output_type": "stream",
     "text": [
      "Servo 1 moved to position 2988: True\n"
     ]
    }
   ],
   "source": [
    "# Define constant values for the minimum and maximum\n",
    "MIN_POS = \n",
    "MAX_POS = \n",
    "\n",
    "# Get a random integer between 0 and 4096, assign to new_servo_pos\n",
    "new_servo_pos = random.randint(MIN_POS,MAX_POS)\n",
    "move_success = servo.MoveTo(servo1, new_servo_pos, speed=2400, acc=50, wait=True) # MoveTo is another method\n",
    "# MoveTo returns True after the movement is completed with wait=True\n",
    "print(f\"Servo {servo1} moved to position {new_servo_pos}: {move_success}\")"
   ]
  }
 ],
 "metadata": {
  "kernelspec": {
   "display_name": "so100_env",
   "language": "python",
   "name": "python3"
  },
  "language_info": {
   "codemirror_mode": {
    "name": "ipython",
    "version": 3
   },
   "file_extension": ".py",
   "mimetype": "text/x-python",
   "name": "python",
   "nbconvert_exporter": "python",
   "pygments_lexer": "ipython3",
   "version": "3.10.19"
  }
 },
 "nbformat": 4,
 "nbformat_minor": 5
}
